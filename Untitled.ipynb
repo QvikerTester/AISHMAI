{
 "cells": [
  {
   "cell_type": "code",
   "execution_count": 8,
   "id": "6b062afb-d5b9-4ded-bb9f-c3c75614010d",
   "metadata": {
    "is_executing": true
   },
   "outputs": [
    {
     "name": "stdout",
     "output_type": "stream",
     "text": [
      "1.26.4\n"
     ]
    }
   ],
   "source": [
    "import numpy as np\n",
    "import pandas as pd\n",
    "print(np. __version__)"
   ]
  },
  {
   "cell_type": "code",
   "execution_count": null,
   "id": "d68b6f1f-d46f-4108-b256-6d38b47cf363",
   "metadata": {},
   "outputs": [],
   "source": []
  }
 ],
 "metadata": {
  "kernelspec": {
   "display_name": "Python 3 (ipykernel)",
   "language": "python",
   "name": "python3"
  },
  "language_info": {
   "codemirror_mode": {
    "name": "ipython",
    "version": 3
   },
   "file_extension": ".py",
   "mimetype": "text/x-python",
   "name": "python",
   "nbconvert_exporter": "python",
   "pygments_lexer": "ipython3",
   "version": "3.12.2"
  }
 },
 "nbformat": 4,
 "nbformat_minor": 5
}
